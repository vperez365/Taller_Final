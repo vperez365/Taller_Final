{
 "cells": [
  {
   "cell_type": "markdown",
   "metadata": {},
   "source": [
    "APRENDIZ: Veronica Perez Zea\n",
    "\n",
    "FICHA: 1751400\n",
    "\n",
    "FECHA DE INICIO: 22/11/2019\n",
    "\n",
    "TALLER ESTACIONES EOLICAS"
   ]
  },
  {
   "cell_type": "markdown",
   "metadata": {},
   "source": [
    "REQUERIMIENTO Nº3\n",
    "\n",
    "Generar una tabla que contenga las siguientes columnas:\n",
    "\n",
    "-Estación.\n",
    "\n",
    "-Año.\n",
    "\n",
    "-Mes.\n",
    "\n",
    "-Velocidad media del viento para ese mes y ese año."
   ]
  }
 ],
 "metadata": {
  "kernelspec": {
   "display_name": "Python 3",
   "language": "python",
   "name": "python3"
  },
  "language_info": {
   "codemirror_mode": {
    "name": "ipython",
    "version": 3
   },
   "file_extension": ".py",
   "mimetype": "text/x-python",
   "name": "python",
   "nbconvert_exporter": "python",
   "pygments_lexer": "ipython3",
   "version": "3.6.5"
  }
 },
 "nbformat": 4,
 "nbformat_minor": 2
}
